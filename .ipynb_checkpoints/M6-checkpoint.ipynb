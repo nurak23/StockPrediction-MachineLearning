{
 "cells": [
  {
   "cell_type": "markdown",
   "metadata": {},
   "source": [
    "# MODULE-6"
   ]
  },
  {
   "cell_type": "markdown",
   "metadata": {},
   "source": [
    "# Decision Tree Classifier"
   ]
  },
  {
   "cell_type": "code",
   "execution_count": 1,
   "metadata": {},
   "outputs": [],
   "source": [
    "#import library packages\n",
    "import pandas as p\n",
    "import matplotlib.pyplot as plt\n",
    "import seaborn as s\n",
    "import numpy as n"
   ]
  },
  {
   "cell_type": "code",
   "execution_count": 2,
   "metadata": {},
   "outputs": [],
   "source": [
    "data = p.read_csv(\"combined_stock_data.csv\")"
   ]
  },
  {
   "cell_type": "code",
   "execution_count": 3,
   "metadata": {},
   "outputs": [],
   "source": [
    "data1 = p.read_csv(\"upload_DJIA_table.csv\")"
   ]
  },
  {
   "cell_type": "code",
   "execution_count": 4,
   "metadata": {},
   "outputs": [],
   "source": [
    "import warnings\n",
    "warnings.filterwarnings('ignore')"
   ]
  },
  {
   "cell_type": "code",
   "execution_count": 5,
   "metadata": {},
   "outputs": [],
   "source": [
    "df=p.concat([data1,data],axis=1)"
   ]
  },
  {
   "cell_type": "code",
   "execution_count": 6,
   "metadata": {},
   "outputs": [],
   "source": [
    "df=df.dropna()"
   ]
  },
  {
   "cell_type": "code",
   "execution_count": 7,
   "metadata": {},
   "outputs": [
    {
     "data": {
      "text/plain": [
       "Index(['Date', 'Open', 'High', 'Low', 'Close', 'Volume', 'Adj Close',\n",
       "       'Unnamed: 0', 'Date', 'Label', 'Top1', 'Top2', 'Top3', 'Top4', 'Top5',\n",
       "       'Top6', 'Top7', 'Top8', 'Top9', 'Top10', 'Top11', 'Top12', 'Top13',\n",
       "       'Top14', 'Top15', 'Top16', 'Top17', 'Top18', 'Top19', 'Top20', 'Top21',\n",
       "       'Top22', 'Top23', 'Top24', 'Top25', 'Para', 'Subjectivity',\n",
       "       'Objectivity', 'Positive', 'Neutral', 'Negative'],\n",
       "      dtype='object')"
      ]
     },
     "execution_count": 7,
     "metadata": {},
     "output_type": "execute_result"
    }
   ],
   "source": [
    "df.columns"
   ]
  },
  {
   "cell_type": "code",
   "execution_count": 8,
   "metadata": {},
   "outputs": [],
   "source": [
    "df.rename(columns={\"Adj Close\":\"Adj_Close\"},inplace=True)\n",
    "df.rename(columns={\"Unnamed: 0\":\"year\"},inplace=True)"
   ]
  },
  {
   "cell_type": "code",
   "execution_count": 9,
   "metadata": {},
   "outputs": [
    {
     "data": {
      "text/plain": [
       "Index(['Date', 'Open', 'High', 'Low', 'Close', 'Volume', 'Adj_Close', 'year',\n",
       "       'Date', 'Label', 'Top1', 'Top2', 'Top3', 'Top4', 'Top5', 'Top6', 'Top7',\n",
       "       'Top8', 'Top9', 'Top10', 'Top11', 'Top12', 'Top13', 'Top14', 'Top15',\n",
       "       'Top16', 'Top17', 'Top18', 'Top19', 'Top20', 'Top21', 'Top22', 'Top23',\n",
       "       'Top24', 'Top25', 'Para', 'Subjectivity', 'Objectivity', 'Positive',\n",
       "       'Neutral', 'Negative'],\n",
       "      dtype='object')"
      ]
     },
     "execution_count": 9,
     "metadata": {},
     "output_type": "execute_result"
    }
   ],
   "source": [
    "df.columns"
   ]
  },
  {
   "cell_type": "code",
   "execution_count": 10,
   "metadata": {},
   "outputs": [],
   "source": [
    "del df[\"Top15\"]"
   ]
  },
  {
   "cell_type": "code",
   "execution_count": 11,
   "metadata": {},
   "outputs": [
    {
     "data": {
      "text/plain": [
       "Index(['Date', 'Open', 'High', 'Low', 'Close', 'Volume', 'Adj_Close', 'year',\n",
       "       'Date', 'Label', 'Top1', 'Top2', 'Top3', 'Top4', 'Top5', 'Top6', 'Top7',\n",
       "       'Top8', 'Top9', 'Top10', 'Top11', 'Top12', 'Top13', 'Top14', 'Top16',\n",
       "       'Top17', 'Top18', 'Top19', 'Top20', 'Top21', 'Top22', 'Top23', 'Top24',\n",
       "       'Top25', 'Para', 'Subjectivity', 'Objectivity', 'Positive', 'Neutral',\n",
       "       'Negative'],\n",
       "      dtype='object')"
      ]
     },
     "execution_count": 11,
     "metadata": {},
     "output_type": "execute_result"
    }
   ],
   "source": [
    "df.columns"
   ]
  },
  {
   "cell_type": "code",
   "execution_count": 12,
   "metadata": {},
   "outputs": [
    {
     "data": {
      "text/html": [
       "<div>\n",
       "<style scoped>\n",
       "    .dataframe tbody tr th:only-of-type {\n",
       "        vertical-align: middle;\n",
       "    }\n",
       "\n",
       "    .dataframe tbody tr th {\n",
       "        vertical-align: top;\n",
       "    }\n",
       "\n",
       "    .dataframe thead th {\n",
       "        text-align: right;\n",
       "    }\n",
       "</style>\n",
       "<table border=\"1\" class=\"dataframe\">\n",
       "  <thead>\n",
       "    <tr style=\"text-align: right;\">\n",
       "      <th></th>\n",
       "      <th>Date</th>\n",
       "      <th>Open</th>\n",
       "      <th>High</th>\n",
       "      <th>Low</th>\n",
       "      <th>Close</th>\n",
       "      <th>Volume</th>\n",
       "      <th>Adj_Close</th>\n",
       "      <th>year</th>\n",
       "      <th>Date</th>\n",
       "      <th>Label</th>\n",
       "      <th>...</th>\n",
       "      <th>Top22</th>\n",
       "      <th>Top23</th>\n",
       "      <th>Top24</th>\n",
       "      <th>Top25</th>\n",
       "      <th>Para</th>\n",
       "      <th>Subjectivity</th>\n",
       "      <th>Objectivity</th>\n",
       "      <th>Positive</th>\n",
       "      <th>Neutral</th>\n",
       "      <th>Negative</th>\n",
       "    </tr>\n",
       "  </thead>\n",
       "  <tbody>\n",
       "    <tr>\n",
       "      <th>0</th>\n",
       "      <td>7/1/2016</td>\n",
       "      <td>17924.24023</td>\n",
       "      <td>18002.38086</td>\n",
       "      <td>17916.91016</td>\n",
       "      <td>17949.36914</td>\n",
       "      <td>82160000</td>\n",
       "      <td>17949.36914</td>\n",
       "      <td>1988</td>\n",
       "      <td>7/1/2016</td>\n",
       "      <td>1</td>\n",
       "      <td>...</td>\n",
       "      <td>Spain arrests three Pakistanis accused of prom...</td>\n",
       "      <td>Venezuela, where anger over food shortages is ...</td>\n",
       "      <td>A Hindu temple worker has been killed by three...</td>\n",
       "      <td>Ozone layer hole seems to be healing - US &amp;amp...</td>\n",
       "      <td>A 117-year-old woman in Mexico City finally re...</td>\n",
       "      <td>60.000000</td>\n",
       "      <td>40.000000</td>\n",
       "      <td>0.000000</td>\n",
       "      <td>40.000000</td>\n",
       "      <td>60.000000</td>\n",
       "    </tr>\n",
       "    <tr>\n",
       "      <th>1</th>\n",
       "      <td>6/30/2016</td>\n",
       "      <td>17712.75977</td>\n",
       "      <td>17930.60938</td>\n",
       "      <td>17711.80078</td>\n",
       "      <td>17929.99023</td>\n",
       "      <td>133030000</td>\n",
       "      <td>17929.99023</td>\n",
       "      <td>1987</td>\n",
       "      <td>6/30/2016</td>\n",
       "      <td>1</td>\n",
       "      <td>...</td>\n",
       "      <td>US permitted 1,200 offshore fracks in Gulf of ...</td>\n",
       "      <td>We will be swimming in ridicule - French beach...</td>\n",
       "      <td>UEFA says no minutes of silence for Istanbul v...</td>\n",
       "      <td>Law Enforcement Sources: Gun Used in Paris Ter...</td>\n",
       "      <td>Jamaica proposes marijuana dispensers for tour...</td>\n",
       "      <td>100.000000</td>\n",
       "      <td>0.000000</td>\n",
       "      <td>100.000000</td>\n",
       "      <td>0.000000</td>\n",
       "      <td>0.000000</td>\n",
       "    </tr>\n",
       "    <tr>\n",
       "      <th>2</th>\n",
       "      <td>6/29/2016</td>\n",
       "      <td>17456.01953</td>\n",
       "      <td>17704.50977</td>\n",
       "      <td>17456.01953</td>\n",
       "      <td>17694.67969</td>\n",
       "      <td>106380000</td>\n",
       "      <td>17694.67969</td>\n",
       "      <td>1986</td>\n",
       "      <td>6/29/2016</td>\n",
       "      <td>1</td>\n",
       "      <td>...</td>\n",
       "      <td>Google Found Disastrous Symantec and Norton Vu...</td>\n",
       "      <td>Extremist violence on the rise in Germany: Dom...</td>\n",
       "      <td>BBC News: Labour MPs pass Corbyn no-confidence...</td>\n",
       "      <td>Tiny New Zealand town with 'too many jobs' lau...</td>\n",
       "      <td>Explosion At Airport In IstanbulYemeni former ...</td>\n",
       "      <td>80.000000</td>\n",
       "      <td>20.000000</td>\n",
       "      <td>0.000000</td>\n",
       "      <td>20.000000</td>\n",
       "      <td>80.000000</td>\n",
       "    </tr>\n",
       "    <tr>\n",
       "      <th>3</th>\n",
       "      <td>6/28/2016</td>\n",
       "      <td>17190.50977</td>\n",
       "      <td>17409.72070</td>\n",
       "      <td>17190.50977</td>\n",
       "      <td>17409.72070</td>\n",
       "      <td>112190000</td>\n",
       "      <td>17409.72070</td>\n",
       "      <td>1985</td>\n",
       "      <td>6/28/2016</td>\n",
       "      <td>1</td>\n",
       "      <td>...</td>\n",
       "      <td>\"Romanians for Remainians\" offering a new home...</td>\n",
       "      <td>Brexit: Gibraltar in talks with Scotland to st...</td>\n",
       "      <td>8 Suicide Bombers Strike Lebanon</td>\n",
       "      <td>Mexico's security forces routinely use 'sexual...</td>\n",
       "      <td>2,500 Scientists To Australia: If You Want To ...</td>\n",
       "      <td>42.857143</td>\n",
       "      <td>57.142857</td>\n",
       "      <td>0.000000</td>\n",
       "      <td>57.142857</td>\n",
       "      <td>42.857143</td>\n",
       "    </tr>\n",
       "    <tr>\n",
       "      <th>4</th>\n",
       "      <td>6/27/2016</td>\n",
       "      <td>17355.21094</td>\n",
       "      <td>17355.21094</td>\n",
       "      <td>17063.08008</td>\n",
       "      <td>17140.24023</td>\n",
       "      <td>138740000</td>\n",
       "      <td>17140.24023</td>\n",
       "      <td>1984</td>\n",
       "      <td>6/27/2016</td>\n",
       "      <td>0</td>\n",
       "      <td>...</td>\n",
       "      <td>Conservative MP Leave Campaigner: \"The leave c...</td>\n",
       "      <td>Economists predict UK recession, further weake...</td>\n",
       "      <td>New EU 'superstate plan by France, Germany: Cr...</td>\n",
       "      <td>Pakistani clerics declare transgender marriage...</td>\n",
       "      <td>Barclays and RBS shares suspended from trading...</td>\n",
       "      <td>33.333333</td>\n",
       "      <td>66.666667</td>\n",
       "      <td>16.666667</td>\n",
       "      <td>66.666667</td>\n",
       "      <td>16.666667</td>\n",
       "    </tr>\n",
       "  </tbody>\n",
       "</table>\n",
       "<p>5 rows × 40 columns</p>\n",
       "</div>"
      ],
      "text/plain": [
       "        Date         Open         High          Low        Close     Volume  \\\n",
       "0   7/1/2016  17924.24023  18002.38086  17916.91016  17949.36914   82160000   \n",
       "1  6/30/2016  17712.75977  17930.60938  17711.80078  17929.99023  133030000   \n",
       "2  6/29/2016  17456.01953  17704.50977  17456.01953  17694.67969  106380000   \n",
       "3  6/28/2016  17190.50977  17409.72070  17190.50977  17409.72070  112190000   \n",
       "4  6/27/2016  17355.21094  17355.21094  17063.08008  17140.24023  138740000   \n",
       "\n",
       "     Adj_Close  year       Date  Label  ...  \\\n",
       "0  17949.36914  1988   7/1/2016      1  ...   \n",
       "1  17929.99023  1987  6/30/2016      1  ...   \n",
       "2  17694.67969  1986  6/29/2016      1  ...   \n",
       "3  17409.72070  1985  6/28/2016      1  ...   \n",
       "4  17140.24023  1984  6/27/2016      0  ...   \n",
       "\n",
       "                                               Top22  \\\n",
       "0  Spain arrests three Pakistanis accused of prom...   \n",
       "1  US permitted 1,200 offshore fracks in Gulf of ...   \n",
       "2  Google Found Disastrous Symantec and Norton Vu...   \n",
       "3  \"Romanians for Remainians\" offering a new home...   \n",
       "4  Conservative MP Leave Campaigner: \"The leave c...   \n",
       "\n",
       "                                               Top23  \\\n",
       "0  Venezuela, where anger over food shortages is ...   \n",
       "1  We will be swimming in ridicule - French beach...   \n",
       "2  Extremist violence on the rise in Germany: Dom...   \n",
       "3  Brexit: Gibraltar in talks with Scotland to st...   \n",
       "4  Economists predict UK recession, further weake...   \n",
       "\n",
       "                                               Top24  \\\n",
       "0  A Hindu temple worker has been killed by three...   \n",
       "1  UEFA says no minutes of silence for Istanbul v...   \n",
       "2  BBC News: Labour MPs pass Corbyn no-confidence...   \n",
       "3                   8 Suicide Bombers Strike Lebanon   \n",
       "4  New EU 'superstate plan by France, Germany: Cr...   \n",
       "\n",
       "                                               Top25  \\\n",
       "0  Ozone layer hole seems to be healing - US &amp...   \n",
       "1  Law Enforcement Sources: Gun Used in Paris Ter...   \n",
       "2  Tiny New Zealand town with 'too many jobs' lau...   \n",
       "3  Mexico's security forces routinely use 'sexual...   \n",
       "4  Pakistani clerics declare transgender marriage...   \n",
       "\n",
       "                                                Para Subjectivity Objectivity  \\\n",
       "0  A 117-year-old woman in Mexico City finally re...    60.000000   40.000000   \n",
       "1  Jamaica proposes marijuana dispensers for tour...   100.000000    0.000000   \n",
       "2  Explosion At Airport In IstanbulYemeni former ...    80.000000   20.000000   \n",
       "3  2,500 Scientists To Australia: If You Want To ...    42.857143   57.142857   \n",
       "4  Barclays and RBS shares suspended from trading...    33.333333   66.666667   \n",
       "\n",
       "     Positive    Neutral   Negative  \n",
       "0    0.000000  40.000000  60.000000  \n",
       "1  100.000000   0.000000   0.000000  \n",
       "2    0.000000  20.000000  80.000000  \n",
       "3    0.000000  57.142857  42.857143  \n",
       "4   16.666667  66.666667  16.666667  \n",
       "\n",
       "[5 rows x 40 columns]"
      ]
     },
     "execution_count": 12,
     "metadata": {},
     "output_type": "execute_result"
    }
   ],
   "source": [
    "df.head()"
   ]
  },
  {
   "cell_type": "code",
   "execution_count": 13,
   "metadata": {},
   "outputs": [
    {
     "data": {
      "text/html": [
       "<div>\n",
       "<style scoped>\n",
       "    .dataframe tbody tr th:only-of-type {\n",
       "        vertical-align: middle;\n",
       "    }\n",
       "\n",
       "    .dataframe tbody tr th {\n",
       "        vertical-align: top;\n",
       "    }\n",
       "\n",
       "    .dataframe thead th {\n",
       "        text-align: right;\n",
       "    }\n",
       "</style>\n",
       "<table border=\"1\" class=\"dataframe\">\n",
       "  <thead>\n",
       "    <tr style=\"text-align: right;\">\n",
       "      <th></th>\n",
       "      <th>Date</th>\n",
       "      <th>Open</th>\n",
       "      <th>High</th>\n",
       "      <th>Low</th>\n",
       "      <th>Close</th>\n",
       "      <th>Volume</th>\n",
       "      <th>Adj_Close</th>\n",
       "      <th>year</th>\n",
       "      <th>Date</th>\n",
       "      <th>Label</th>\n",
       "      <th>...</th>\n",
       "      <th>Top22</th>\n",
       "      <th>Top23</th>\n",
       "      <th>Top24</th>\n",
       "      <th>Top25</th>\n",
       "      <th>Para</th>\n",
       "      <th>Subjectivity</th>\n",
       "      <th>Objectivity</th>\n",
       "      <th>Positive</th>\n",
       "      <th>Neutral</th>\n",
       "      <th>Negative</th>\n",
       "    </tr>\n",
       "  </thead>\n",
       "  <tbody>\n",
       "    <tr>\n",
       "      <th>1984</th>\n",
       "      <td>8/14/2008</td>\n",
       "      <td>11532.07031</td>\n",
       "      <td>11718.28027</td>\n",
       "      <td>11450.88965</td>\n",
       "      <td>11615.92969</td>\n",
       "      <td>159790000</td>\n",
       "      <td>11615.92969</td>\n",
       "      <td>4</td>\n",
       "      <td>8/14/2008</td>\n",
       "      <td>1</td>\n",
       "      <td>...</td>\n",
       "      <td>b'Taliban wages war on humanitarian aid workers'</td>\n",
       "      <td>b'Russia: World  \"can forget about\" Georgia\\'s...</td>\n",
       "      <td>b'Darfur rebels accuse Sudan of mounting major...</td>\n",
       "      <td>b'Philippines : Peace Advocate say Muslims nee...</td>\n",
       "      <td>b'All the experts admit that we should legalis...</td>\n",
       "      <td>45.454545</td>\n",
       "      <td>54.545455</td>\n",
       "      <td>36.363636</td>\n",
       "      <td>54.545455</td>\n",
       "      <td>9.090909</td>\n",
       "    </tr>\n",
       "    <tr>\n",
       "      <th>1985</th>\n",
       "      <td>8/13/2008</td>\n",
       "      <td>11632.80957</td>\n",
       "      <td>11633.78027</td>\n",
       "      <td>11453.33984</td>\n",
       "      <td>11532.95996</td>\n",
       "      <td>182550000</td>\n",
       "      <td>11532.95996</td>\n",
       "      <td>3</td>\n",
       "      <td>8/13/2008</td>\n",
       "      <td>0</td>\n",
       "      <td>...</td>\n",
       "      <td>b'Witness: Russian forces head towards Tbilisi...</td>\n",
       "      <td>b' Quarter of Russians blame U.S. for conflict...</td>\n",
       "      <td>b'Georgian president  says US military will ta...</td>\n",
       "      <td>b'2006: Nobel laureate Aleksander Solzhenitsyn...</td>\n",
       "      <td>b' U.S. refuses Israel weapons to attack Iran:...</td>\n",
       "      <td>38.461538</td>\n",
       "      <td>61.538462</td>\n",
       "      <td>15.384615</td>\n",
       "      <td>61.538462</td>\n",
       "      <td>23.076923</td>\n",
       "    </tr>\n",
       "    <tr>\n",
       "      <th>1986</th>\n",
       "      <td>8/12/2008</td>\n",
       "      <td>11781.70020</td>\n",
       "      <td>11782.34961</td>\n",
       "      <td>11601.51953</td>\n",
       "      <td>11642.46973</td>\n",
       "      <td>173590000</td>\n",
       "      <td>11642.46973</td>\n",
       "      <td>2</td>\n",
       "      <td>8/12/2008</td>\n",
       "      <td>0</td>\n",
       "      <td>...</td>\n",
       "      <td>b'All signs point to the US encouraging Georgi...</td>\n",
       "      <td>b'Christopher King argues that the US and NATO...</td>\n",
       "      <td>b'America: The New Mexico?'</td>\n",
       "      <td>b\"BBC NEWS | Asia-Pacific | Extinction 'by man...</td>\n",
       "      <td>b'Remember that adorable 9-year-old who sang a...</td>\n",
       "      <td>56.250000</td>\n",
       "      <td>43.750000</td>\n",
       "      <td>18.750000</td>\n",
       "      <td>43.750000</td>\n",
       "      <td>37.500000</td>\n",
       "    </tr>\n",
       "    <tr>\n",
       "      <th>1987</th>\n",
       "      <td>8/11/2008</td>\n",
       "      <td>11729.66992</td>\n",
       "      <td>11867.11035</td>\n",
       "      <td>11675.53027</td>\n",
       "      <td>11782.34961</td>\n",
       "      <td>183190000</td>\n",
       "      <td>11782.34961</td>\n",
       "      <td>1</td>\n",
       "      <td>8/11/2008</td>\n",
       "      <td>1</td>\n",
       "      <td>...</td>\n",
       "      <td>b' Russia has just beaten the United States ov...</td>\n",
       "      <td>b'Perhaps *the* question about the Georgia - R...</td>\n",
       "      <td>b'Russia is so much better at war'</td>\n",
       "      <td>b\"So this is what it's come to: trading sex fo...</td>\n",
       "      <td>b'Why wont America and Nato help us? If they w...</td>\n",
       "      <td>83.333333</td>\n",
       "      <td>16.666667</td>\n",
       "      <td>41.666667</td>\n",
       "      <td>16.666667</td>\n",
       "      <td>41.666667</td>\n",
       "    </tr>\n",
       "    <tr>\n",
       "      <th>1988</th>\n",
       "      <td>8/8/2008</td>\n",
       "      <td>11432.08984</td>\n",
       "      <td>11759.95996</td>\n",
       "      <td>11388.04004</td>\n",
       "      <td>11734.32031</td>\n",
       "      <td>212830000</td>\n",
       "      <td>11734.32031</td>\n",
       "      <td>0</td>\n",
       "      <td>8/8/2008</td>\n",
       "      <td>0</td>\n",
       "      <td>...</td>\n",
       "      <td>b'Caucasus in crisis: Georgia invades South Os...</td>\n",
       "      <td>b'Indian shoe manufactory  - And again in a se...</td>\n",
       "      <td>b'Visitors Suffering from Mental Illnesses Ban...</td>\n",
       "      <td>b\"No Help for Mexico's Kidnapping Surge\"</td>\n",
       "      <td>b\"Georgia 'downs two Russian warplanes' as cou...</td>\n",
       "      <td>75.000000</td>\n",
       "      <td>25.000000</td>\n",
       "      <td>18.750000</td>\n",
       "      <td>25.000000</td>\n",
       "      <td>56.250000</td>\n",
       "    </tr>\n",
       "  </tbody>\n",
       "</table>\n",
       "<p>5 rows × 40 columns</p>\n",
       "</div>"
      ],
      "text/plain": [
       "           Date         Open         High          Low        Close  \\\n",
       "1984  8/14/2008  11532.07031  11718.28027  11450.88965  11615.92969   \n",
       "1985  8/13/2008  11632.80957  11633.78027  11453.33984  11532.95996   \n",
       "1986  8/12/2008  11781.70020  11782.34961  11601.51953  11642.46973   \n",
       "1987  8/11/2008  11729.66992  11867.11035  11675.53027  11782.34961   \n",
       "1988   8/8/2008  11432.08984  11759.95996  11388.04004  11734.32031   \n",
       "\n",
       "         Volume    Adj_Close  year       Date  Label  ...  \\\n",
       "1984  159790000  11615.92969     4  8/14/2008      1  ...   \n",
       "1985  182550000  11532.95996     3  8/13/2008      0  ...   \n",
       "1986  173590000  11642.46973     2  8/12/2008      0  ...   \n",
       "1987  183190000  11782.34961     1  8/11/2008      1  ...   \n",
       "1988  212830000  11734.32031     0   8/8/2008      0  ...   \n",
       "\n",
       "                                                  Top22  \\\n",
       "1984   b'Taliban wages war on humanitarian aid workers'   \n",
       "1985  b'Witness: Russian forces head towards Tbilisi...   \n",
       "1986  b'All signs point to the US encouraging Georgi...   \n",
       "1987  b' Russia has just beaten the United States ov...   \n",
       "1988  b'Caucasus in crisis: Georgia invades South Os...   \n",
       "\n",
       "                                                  Top23  \\\n",
       "1984  b'Russia: World  \"can forget about\" Georgia\\'s...   \n",
       "1985  b' Quarter of Russians blame U.S. for conflict...   \n",
       "1986  b'Christopher King argues that the US and NATO...   \n",
       "1987  b'Perhaps *the* question about the Georgia - R...   \n",
       "1988  b'Indian shoe manufactory  - And again in a se...   \n",
       "\n",
       "                                                  Top24  \\\n",
       "1984  b'Darfur rebels accuse Sudan of mounting major...   \n",
       "1985  b'Georgian president  says US military will ta...   \n",
       "1986                        b'America: The New Mexico?'   \n",
       "1987                 b'Russia is so much better at war'   \n",
       "1988  b'Visitors Suffering from Mental Illnesses Ban...   \n",
       "\n",
       "                                                  Top25  \\\n",
       "1984  b'Philippines : Peace Advocate say Muslims nee...   \n",
       "1985  b'2006: Nobel laureate Aleksander Solzhenitsyn...   \n",
       "1986  b\"BBC NEWS | Asia-Pacific | Extinction 'by man...   \n",
       "1987  b\"So this is what it's come to: trading sex fo...   \n",
       "1988           b\"No Help for Mexico's Kidnapping Surge\"   \n",
       "\n",
       "                                                   Para Subjectivity  \\\n",
       "1984  b'All the experts admit that we should legalis...    45.454545   \n",
       "1985  b' U.S. refuses Israel weapons to attack Iran:...    38.461538   \n",
       "1986  b'Remember that adorable 9-year-old who sang a...    56.250000   \n",
       "1987  b'Why wont America and Nato help us? If they w...    83.333333   \n",
       "1988  b\"Georgia 'downs two Russian warplanes' as cou...    75.000000   \n",
       "\n",
       "     Objectivity   Positive    Neutral   Negative  \n",
       "1984   54.545455  36.363636  54.545455   9.090909  \n",
       "1985   61.538462  15.384615  61.538462  23.076923  \n",
       "1986   43.750000  18.750000  43.750000  37.500000  \n",
       "1987   16.666667  41.666667  16.666667  41.666667  \n",
       "1988   25.000000  18.750000  25.000000  56.250000  \n",
       "\n",
       "[5 rows x 40 columns]"
      ]
     },
     "execution_count": 13,
     "metadata": {},
     "output_type": "execute_result"
    }
   ],
   "source": [
    "df.tail()"
   ]
  },
  {
   "cell_type": "code",
   "execution_count": null,
   "metadata": {},
   "outputs": [],
   "source": []
  },
  {
   "cell_type": "code",
   "execution_count": 14,
   "metadata": {},
   "outputs": [],
   "source": [
    "#According to the cross-validated MCC scores, the random forest is the best-performing model, so now let's evaluate its performance on the test set.\n",
    "from sklearn.metrics import confusion_matrix, classification_report, matthews_corrcoef, cohen_kappa_score, accuracy_score, average_precision_score, roc_auc_score"
   ]
  },
  {
   "cell_type": "code",
   "execution_count": 15,
   "metadata": {},
   "outputs": [],
   "source": [
    "X=df[['Open', 'High', 'Low', 'Close', 'Volume', 'Adj_Close','Subjectivity','Objectivity', 'Positive', 'Neutral', 'Negative']]\n",
    "#Response variable\n",
    "y = df.loc[:,'Label']   "
   ]
  },
  {
   "cell_type": "code",
   "execution_count": 16,
   "metadata": {},
   "outputs": [
    {
     "name": "stdout",
     "output_type": "stream",
     "text": [
      "Number of training dataset:  1390\n",
      "Number of test dataset:  596\n",
      "Total number of dataset:  1986\n"
     ]
    }
   ],
   "source": [
    "from sklearn.model_selection import train_test_split\n",
    "X_train, X_test, y_train, y_test = train_test_split(X, y, test_size=0.3, random_state=1, stratify=y)\n",
    "print(\"Number of training dataset: \", len(X_train))\n",
    "print(\"Number of test dataset: \", len(X_test))\n",
    "print(\"Total number of dataset: \", len(X_train)+len(X_test))"
   ]
  },
  {
   "cell_type": "code",
   "execution_count": 17,
   "metadata": {},
   "outputs": [
    {
     "name": "stdout",
     "output_type": "stream",
     "text": [
      "Accuracy of  Decision Tree Classifier 63\n",
      "\n",
      "Classification report of Decision Tree Results:\n",
      "\n",
      "              precision    recall  f1-score   support\n",
      "\n",
      "           0       0.60      0.63      0.61       277\n",
      "           1       0.66      0.64      0.65       319\n",
      "\n",
      "    accuracy                           0.63       596\n",
      "   macro avg       0.63      0.63      0.63       596\n",
      "weighted avg       0.63      0.63      0.63       596\n",
      "\n",
      "\n",
      "Confusion Matrix result of Decision Tree Classifier is:\n",
      " [[174 103]\n",
      " [116 203]]\n",
      "\n",
      "Sensitivity :  0.628158844765343\n",
      "\n",
      "Specificity :  0.6363636363636364\n",
      "\n",
      "Cross validation test results of accuracy:\n",
      "[0.59045226 0.59697733 0.55667506 0.63224181 0.53652393]\n",
      "\n",
      "Cross validation of Decision Tree Classifier is: 58.25740794653368\n"
     ]
    }
   ],
   "source": [
    "from sklearn.metrics import accuracy_score, confusion_matrix\n",
    "from sklearn.tree import DecisionTreeClassifier\n",
    "from sklearn.model_selection import cross_val_score\n",
    "\n",
    "dtree= DecisionTreeClassifier()\n",
    "\n",
    "dtree.fit(X_train,y_train)\n",
    "\n",
    "predictDT = dtree.predict(X_test)\n",
    "\n",
    "x=accuracy_score(y_test,predictDT)\n",
    "print('Accuracy of  Decision Tree Classifier',round(x*100))\n",
    "\n",
    "print(\"\")\n",
    "print('Classification report of Decision Tree Results:')\n",
    "print(\"\")\n",
    "print(classification_report(y_test,predictDT))\n",
    "\n",
    "print(\"\")\n",
    "cm1=confusion_matrix(y_test,predictDT)\n",
    "print('Confusion Matrix result of Decision Tree Classifier is:\\n',cm1)\n",
    "print(\"\")\n",
    "sensitivity1 = cm1[0,0]/(cm1[0,0]+cm1[0,1])\n",
    "print('Sensitivity : ', sensitivity1 )\n",
    "print(\"\")\n",
    "specificity1 = cm1[1,1]/(cm1[1,0]+cm1[1,1])\n",
    "print('Specificity : ', specificity1)\n",
    "print(\"\")\n",
    "\n",
    "accuracy = cross_val_score(dtree, X, y, scoring='accuracy')\n",
    "print('Cross validation test results of accuracy:')\n",
    "print(accuracy)\n",
    "#get the mean of each fold \n",
    "print(\"\")\n",
    "print(\"Cross validation of Decision Tree Classifier is:\",accuracy.mean() * 100)\n",
    "DT=accuracy.mean() * 100"
   ]
  },
  {
   "cell_type": "code",
   "execution_count": 18,
   "metadata": {},
   "outputs": [],
   "source": [
    "def graph():\n",
    "    import matplotlib.pyplot as plt\n",
    "    data=[DT]\n",
    "    alg=\"Decision Tree Classification\"\n",
    "    plt.figure(figsize=(5,5))\n",
    "    b=plt.bar(alg,data,color=(\"b\"))\n",
    "    plt.title(\"Accuracy comparison of STOCK\",fontsize=15)\n",
    "    plt.legend(b,data,fontsize=9)"
   ]
  },
  {
   "cell_type": "code",
   "execution_count": 19,
   "metadata": {},
   "outputs": [
    {
     "data": {
      "image/png": "[encoded data removed]",
      "text/plain": [
       "<Figure size 360x360 with 1 Axes>"
      ]
     },
     "metadata": {
      "needs_background": "light"
     },
     "output_type": "display_data"
    }
   ],
   "source": [
    "graph()"
   ]
  },
  {
   "cell_type": "code",
   "execution_count": 20,
   "metadata": {},
   "outputs": [
    {
     "name": "stdout",
     "output_type": "stream",
     "text": [
      "True Positive : 174\n",
      "True Negative : 103\n",
      "False Positive : 116\n",
      "False Negative : 203\n",
      "\n",
      "True Positive Rate : 0.46153846153846156\n",
      "True Negative Rate : 0.4703196347031963\n",
      "False Positive Rate : 0.5296803652968036\n",
      "False Negative Rate : 0.5384615384615384\n",
      "\n",
      "Positive Predictive Value : 0.6\n",
      "Negative predictive value : 0.3366013071895425\n"
     ]
    }
   ],
   "source": [
    "TP = cm1[0][0]\n",
    "FP = cm1[1][0]\n",
    "FN = cm1[1][1]\n",
    "TN = cm1[0][1]\n",
    "print(\"True Positive :\",TP)\n",
    "print(\"True Negative :\",TN)\n",
    "print(\"False Positive :\",FP)\n",
    "print(\"False Negative :\",FN)\n",
    "print(\"\")\n",
    "TPR = TP/(TP+FN)\n",
    "TNR = TN/(TN+FP)\n",
    "FPR = FP/(FP+TN)\n",
    "FNR = FN/(TP+FN)\n",
    "print(\"True Positive Rate :\",TPR)\n",
    "print(\"True Negative Rate :\",TNR)\n",
    "print(\"False Positive Rate :\",FPR)\n",
    "print(\"False Negative Rate :\",FNR)\n",
    "print(\"\")\n",
    "PPV = TP/(TP+FP)\n",
    "NPV = TN/(TN+FN)\n",
    "print(\"Positive Predictive Value :\",PPV)\n",
    "print(\"Negative predictive value :\",NPV)"
   ]
  },
  {
   "cell_type": "code",
   "execution_count": 21,
   "metadata": {},
   "outputs": [
    {
     "name": "stdout",
     "output_type": "stream",
     "text": [
      "Confusion matrix-DecisionTreeClassifier:\n",
      "[[174 103]\n",
      " [116 203]]\n"
     ]
    },
    {
     "data": {
      "image/png": "[encoded data removed]",
      "text/plain": [
       "<Figure size 432x288 with 2 Axes>"
      ]
     },
     "metadata": {
      "needs_background": "light"
     },
     "output_type": "display_data"
    }
   ],
   "source": [
    "def plot_confusion_matrix(cm1, title='Confusion matrix-DecisionTreeClassifier', cmap=plt.cm.Blues):\n",
    "    target_names=['Predict','Actual']\n",
    "    plt.imshow(cm1, interpolation='nearest', cmap=cmap)\n",
    "    plt.title(title)\n",
    "    plt.colorbar()\n",
    "    tick_marks = n.arange(len(target_names))\n",
    "    plt.xticks(tick_marks, target_names, rotation=45)\n",
    "    plt.yticks(tick_marks, target_names)\n",
    "    plt.tight_layout()\n",
    "    plt.ylabel('True label')\n",
    "    plt.xlabel('Predicted label')\n",
    "\n",
    "cm1=confusion_matrix(y_test, predictDT)\n",
    "print('Confusion matrix-DecisionTreeClassifier:')\n",
    "print(cm1)\n",
    "plot_confusion_matrix(cm1)"
   ]
  },
  {
   "cell_type": "code",
   "execution_count": 4,
   "metadata": {},
   "outputs": [
    {
     "data": {
      "image/png": "[encoded data removed]",
      "text/plain": [
       "<Figure size 720x360 with 1 Axes>"
      ]
     },
     "metadata": {
      "needs_background": "light"
     },
     "output_type": "display_data"
    }
   ],
   "source": [
    "def graph():\n",
    "    import matplotlib.pyplot as plt\n",
    "    data=[54,67,56,63]\n",
    "    alg=\"LR\",\"RF\",\"NB\",\"DT\"\n",
    "    plt.figure(figsize=(10,5))\n",
    "    b=plt.bar(alg,data,color=(\"b\",\"g\",\"y\",\"r\"))\n",
    "    plt.title(\"Accuracy comparison of STOCK\",fontsize=15)\n",
    "    plt.legend(b,data,fontsize=9)\n",
    "graph()"
   ]
  },
  {
   "cell_type": "code",
   "execution_count": null,
   "metadata": {},
   "outputs": [],
   "source": []
  }
 ],
 "metadata": {
  "kernelspec": {
   "display_name": "Python 3 (ipykernel)",
   "language": "python",
   "name": "python3"
  },
  "language_info": {
   "codemirror_mode": {
    "name": "ipython",
    "version": 3
   },
   "file_extension": ".py",
   "mimetype": "text/x-python",
   "name": "python",
   "nbconvert_exporter": "python",
   "pygments_lexer": "ipython3",
   "version": "3.9.12"
  }
 },
 "nbformat": 4,
 "nbformat_minor": 4
}
